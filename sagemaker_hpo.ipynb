{
 "cells": [
  {
   "cell_type": "code",
   "execution_count": 2,
   "id": "c4de7b4d-e0b7-4222-8c3e-91a8f7d0144e",
   "metadata": {},
   "outputs": [],
   "source": [
    "import sagemaker, boto3\n",
    "from sagemaker.inputs import TrainingInput\n",
    "from sagemaker.parameter import ContinuousParameter, IntegerParameter\n",
    "from sagemaker.tuner import HyperparameterTuner"
   ]
  },
  {
   "cell_type": "code",
   "execution_count": 3,
   "id": "e7d1cd61-b94c-408f-9084-83cd879b9e73",
   "metadata": {},
   "outputs": [],
   "source": [
    "session = sagemaker.Session()\n",
    "role = sagemaker.get_execution_role()\n",
    "region = boto3.Session().region_name"
   ]
  },
  {
   "cell_type": "code",
   "execution_count": 4,
   "id": "053f0307-866d-42c2-999d-dcd8270e2f02",
   "metadata": {},
   "outputs": [],
   "source": [
    "bucket = \"aip22-feature-engineering\"  \n",
    "prefix = \"churn\"\n",
    "output_path = f\"s3://{bucket}/{prefix}/output\"\n",
    "\n",
    "container = sagemaker.image_uris.retrieve(\"xgboost\", region, \"1.5-1\")"
   ]
  },
  {
   "cell_type": "code",
   "execution_count": 5,
   "id": "4bbf7559-2cb3-419b-85db-69c38c93ddfe",
   "metadata": {},
   "outputs": [],
   "source": [
    "estimator = sagemaker.estimator.Estimator(\n",
    "    image_uri=container,\n",
    "    role=role,\n",
    "    instance_count=1,\n",
    "    instance_type=\"ml.m5.xlarge\",\n",
    "    output_path=output_path,\n",
    "    sagemaker_session=session\n",
    ")\n",
    "\n",
    "estimator.set_hyperparameters(objective=\"binary:logistic\", eval_metric=\"auc\", num_round=200)\n"
   ]
  },
  {
   "cell_type": "code",
   "execution_count": 6,
   "id": "87a5da6f-3df4-4948-98bd-3423fb77f003",
   "metadata": {},
   "outputs": [],
   "source": [
    "hyperparameter_ranges = {\n",
    "    \"eta\": ContinuousParameter(0.01, 0.3),\n",
    "    \"max_depth\": IntegerParameter(3, 10),\n",
    "    \"min_child_weight\": IntegerParameter(1, 10),\n",
    "    \"subsample\": ContinuousParameter(0.5, 1.0),\n",
    "    \"colsample_bytree\": ContinuousParameter(0.5, 1.0)\n",
    "}"
   ]
  },
  {
   "cell_type": "code",
   "execution_count": 7,
   "id": "057e389b-89f8-4f88-8b0b-8588c8b9e685",
   "metadata": {},
   "outputs": [],
   "source": [
    "tuner = HyperparameterTuner(\n",
    "    estimator=estimator,\n",
    "    objective_metric_name=\"validation:auc\",\n",
    "    hyperparameter_ranges=hyperparameter_ranges,\n",
    "    max_jobs=12,\n",
    "    max_parallel_jobs=2,\n",
    "    strategy=\"Bayesian\"\n",
    ")"
   ]
  },
  {
   "cell_type": "code",
   "execution_count": 12,
   "id": "a8f5bbdc-8de9-46bd-b967-34fe15301b76",
   "metadata": {},
   "outputs": [],
   "source": [
    "s3_train = f\"s3://{bucket}/{prefix}/train_for_sagemaker.csv\"\n",
    "s3_val   = f\"s3://{bucket}/{prefix}/validation_for_sagemaker.csv\""
   ]
  },
  {
   "cell_type": "code",
   "execution_count": 13,
   "id": "b0554b26-8fff-4d6e-9c7a-85eb5868e1ee",
   "metadata": {},
   "outputs": [
    {
     "name": "stderr",
     "output_type": "stream",
     "text": [
      "No finished training job found associated with this estimator. Please make sure this estimator is only used for building workflow config\n",
      "No finished training job found associated with this estimator. Please make sure this estimator is only used for building workflow config\n"
     ]
    },
    {
     "name": "stdout",
     "output_type": "stream",
     "text": [
      "..................................................................................!\n"
     ]
    }
   ],
   "source": [
    "tuner.fit({\"train\": TrainingInput(s3_train, content_type=\"csv\"),\n",
    "           \"validation\": TrainingInput(s3_val, content_type=\"csv\")})"
   ]
  },
  {
   "cell_type": "code",
   "execution_count": 14,
   "id": "d853019c-6820-4c63-bd2e-2c763b34b3ed",
   "metadata": {},
   "outputs": [
    {
     "name": "stdout",
     "output_type": "stream",
     "text": [
      "Tuning job name: sagemaker-xgboost-250923-2154\n",
      "Tuning job status: Completed\n",
      "Final status: Completed\n"
     ]
    }
   ],
   "source": [
    "m = boto3.client(\"sagemaker\")\n",
    "# try to get the job name from the tuner object\n",
    "job_name = None\n",
    "if hasattr(tuner, \"latest_tuning_job\") and tuner.latest_tuning_job:\n",
    "    job_name = getattr(tuner.latest_tuning_job, \"job_name\", None)\n",
    "if not job_name:\n",
    "    print(\"Could not get tuner.latest_tuning_job; please copy the tuning job name from the SageMaker console.\")\n",
    "else:\n",
    "    print(\"Tuning job name:\", job_name)\n",
    "\n",
    "# Poll status (replace job_name with the real name if needed)\n",
    "if job_name:\n",
    "    while True:\n",
    "        resp = sm.describe_hyper_parameter_tuning_job(HyperParameterTuningJobName=job_name)\n",
    "        status = resp[\"HyperParameterTuningJobStatus\"]\n",
    "        print(\"Tuning job status:\", status)\n",
    "        if status in (\"Completed\", \"Failed\", \"Stopped\"):\n",
    "            break\n",
    "        time.sleep(30)\n",
    "    print(\"Final status:\", status)\n",
    "else:\n",
    "    print(\"No job_name available in the tuner object — check the SageMaker console to find the tuning job name.\")"
   ]
  },
  {
   "cell_type": "code",
   "execution_count": 15,
   "id": "d3f45fa9-e7e2-4194-a02a-ed6bd6205c45",
   "metadata": {},
   "outputs": [
    {
     "name": "stdout",
     "output_type": "stream",
     "text": [
      "\n",
      "2025-09-23 22:01:21 Starting - Found matching resource for reuse\n",
      "2025-09-23 22:01:21 Downloading - Downloading the training image\n",
      "2025-09-23 22:01:21 Training - Training image download completed. Training in progress.\n",
      "2025-09-23 22:01:21 Uploading - Uploading generated training model\n",
      "2025-09-23 22:01:21 Completed - Resource released due to keep alive period expiry\n",
      "Best model S3 path: s3://aip22-feature-engineering/churn/output/sagemaker-xgboost-250923-2154-012-02347c07/output/model.tar.gz\n"
     ]
    }
   ],
   "source": [
    "best = tuner.best_estimator()\n",
    "print(\"Best model S3 path:\", best.model_data)"
   ]
  },
  {
   "cell_type": "code",
   "execution_count": null,
   "id": "c5e08d60-78cc-42ce-8aba-e765badaeb41",
   "metadata": {},
   "outputs": [],
   "source": []
  }
 ],
 "metadata": {
  "kernelspec": {
   "display_name": "conda_python3",
   "language": "python",
   "name": "conda_python3"
  },
  "language_info": {
   "codemirror_mode": {
    "name": "ipython",
    "version": 3
   },
   "file_extension": ".py",
   "mimetype": "text/x-python",
   "name": "python",
   "nbconvert_exporter": "python",
   "pygments_lexer": "ipython3",
   "version": "3.10.18"
  }
 },
 "nbformat": 4,
 "nbformat_minor": 5
}
